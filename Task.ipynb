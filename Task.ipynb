{
 "cells": [
  {
   "cell_type": "markdown",
   "id": "e42af292",
   "metadata": {},
   "source": [
    "Վարժություն 1: Մեզ հանձնարարված է իրականացնել պարզ գծային ռեգրեսիա՝ սննդի բեռնատարի շահույթը կանխատեսելու համար: Ենթադրենք, դուք ռեստորանային ֆրանշիզայի գործադիր տնօրենն եք և դիտարկում եք տարբեր քաղաքներ նոր կետ բացելու համար: Շղթան արդեն ունի բեռնատարներ տարբեր քաղաքներում, և դուք ունեք տվյալներ քաղաքներից ստացված շահույթի և բնակչության թվի վերաբերյալ: Կցանկանայիք պարզել, թե ինչ շահույթ կարող է ստանալ նոր սննդի բեռնատարի ակնկալվող շահույթը միայն այն քաղաքի բնակչությանը, որտեղ այն կտեղակայվի:\n",
    "Սկսենք ուսումնասիրելով այն տվյալները, որոնք գտնվում են «ex1data1.txt» կոչվող ֆայլում"
   ]
  },
  {
   "cell_type": "code",
   "execution_count": 102,
   "id": "b31c2bf3",
   "metadata": {},
   "outputs": [],
   "source": [
    "# Ձեր կոդը\n",
    "import numpy as np\n",
    "import matplotlib.pyplot as plt\n",
    "import pandas as pd\n",
    "from scipy import stats\n",
    "from sklearn import linear_model"
   ]
  },
  {
   "cell_type": "code",
   "execution_count": 111,
   "id": "555c2272",
   "metadata": {},
   "outputs": [
    {
     "name": "stdout",
     "output_type": "stream",
     "text": [
      "regression is : 0.8378732325263409\n"
     ]
    },
    {
     "data": {
      "image/png": "[encoded data removed]",
      "text/plain": [
       "<Figure size 432x288 with 1 Axes>"
      ]
     },
     "metadata": {
      "needs_background": "light"
     },
     "output_type": "display_data"
    }
   ],
   "source": [
    "df= pd.read_csv('ex1data1.txt', sep = \",\", names = ['Populations', 'Shahuyt'])\n",
    "x = df['Populations']\n",
    "y = df['Shahuyt']\n",
    "slope, intercept, r, p, std_err = stats.linregress(x, y)\n",
    "def myf(x):\n",
    "  return slope * x + intercept\n",
    "\n",
    "mym = list(map(myf, x))\n",
    "print('regression is :',r)\n",
    "plt.scatter(x, y)\n",
    "plt.plot(x, mym)\n",
    "plt.show()"
   ]
  },
  {
   "cell_type": "code",
   "execution_count": 115,
   "id": "60d7d551",
   "metadata": {},
   "outputs": [
    {
     "name": "stdout",
     "output_type": "stream",
     "text": [
      "55.75590133116784\n"
     ]
    }
   ],
   "source": [
    "speed =myf(50)\n",
    "print(speed)"
   ]
  },
  {
   "cell_type": "code",
   "execution_count": null,
   "id": "0253f7f3",
   "metadata": {},
   "outputs": [],
   "source": []
  }
 ],
 "metadata": {
  "kernelspec": {
   "display_name": "Python 3 (ipykernel)",
   "language": "python",
   "name": "python3"
  },
  "language_info": {
   "codemirror_mode": {
    "name": "ipython",
    "version": 3
   },
   "file_extension": ".py",
   "mimetype": "text/x-python",
   "name": "python",
   "nbconvert_exporter": "python",
   "pygments_lexer": "ipython3",
   "version": "3.9.7"
  }
 },
 "nbformat": 4,
 "nbformat_minor": 5
}
