{
 "cells": [
  {
   "cell_type": "code",
   "execution_count": 2,
   "id": "c7be4c77",
   "metadata": {},
   "outputs": [],
   "source": [
    "import numpy as np\n",
    "from numpy import random\n",
    "from math import sqrt\n",
    "import matplotlib.pylab as plt\n",
    "import seaborn as sns\n",
    "from numpy import savetxt"
   ]
  },
  {
   "cell_type": "code",
   "execution_count": 24,
   "id": "7dc75db1",
   "metadata": {},
   "outputs": [
    {
     "name": "stdout",
     "output_type": "stream",
     "text": [
      "[16 17 18 19 20 21 22 23 24 25 26 27 28 29 30 31 32 33 34 35 36 37 38 39\n",
      " 40 41 42 43 44 45 46 47 48 49 50 51 52 53 54]\n"
     ]
    }
   ],
   "source": [
    "#1\n",
    "arr = np.arange(15,55)\n",
    "print(arr[1:])"
   ]
  },
  {
   "cell_type": "code",
   "execution_count": 25,
   "id": "511a4ed0",
   "metadata": {},
   "outputs": [
    {
     "name": "stdout",
     "output_type": "stream",
     "text": [
      "original array:\n",
      "[[ 0  1  2  3]\n",
      " [ 4  5  6  7]\n",
      " [ 8  9 10 11]]\n",
      "2nd array:\n",
      "[array([[ 0,  1,  2,  3],\n",
      "       [ 4,  5,  6,  7],\n",
      "       [ 8,  9, 10, 11]])]\n"
     ]
    }
   ],
   "source": [
    "#2\n",
    "arr = np.arange(12).reshape(3,4)\n",
    "print('original array:')\n",
    "print(arr)\n",
    "print('2nd array:')\n",
    "print([arr])"
   ]
  },
  {
   "cell_type": "code",
   "execution_count": 26,
   "id": "199e2f0d",
   "metadata": {},
   "outputs": [
    {
     "name": "stdout",
     "output_type": "stream",
     "text": [
      "original array:\n",
      "[44 50 43 49 23  5 39 15 22 13]\n"
     ]
    }
   ],
   "source": [
    "#3\n",
    "x = np.random.randint(low = 5,high = 55,size=10)\n",
    "print('original array:')\n",
    "print(x)"
   ]
  },
  {
   "cell_type": "code",
   "execution_count": 27,
   "id": "011f2851",
   "metadata": {},
   "outputs": [
    {
     "name": "stdout",
     "output_type": "stream",
     "text": [
      "Original array:\n",
      "[ 0  1  2  3  4  5  6  7  8  9 10 11 12 13 14 15 16 17 18 19 20]\n",
      "the second array:\n",
      "[  0   1   2   3   4   5   6   7   8  -9 -10 -11 -12 -13 -14 -15  16  17\n",
      "  18  19  20]\n"
     ]
    }
   ],
   "source": [
    "#4\n",
    "arr = np.arange(0,21)\n",
    "print('Original array:')\n",
    "print(arr)\n",
    "for i in arr:\n",
    "    if  i >=9 and i<16:\n",
    "        arr[i] *=-1\n",
    "print(\"the second array:\")\n",
    "print(arr)"
   ]
  },
  {
   "cell_type": "code",
   "execution_count": 28,
   "id": "f0bcc244",
   "metadata": {},
   "outputs": [
    {
     "name": "stdout",
     "output_type": "stream",
     "text": [
      "[10  1  5  4  2]\n"
     ]
    }
   ],
   "source": [
    "#5\n",
    "x = np.random.randint(11,size=5)\n",
    "print(x)"
   ]
  },
  {
   "cell_type": "code",
   "execution_count": 29,
   "id": "19797021",
   "metadata": {},
   "outputs": [
    {
     "name": "stdout",
     "output_type": "stream",
     "text": [
      "[36 50 66]\n"
     ]
    }
   ],
   "source": [
    "#6\n",
    "x = np.array([4,5,6])\n",
    "y = np.array([9,10,11])\n",
    "z = np.multiply(x,y)\n",
    "print(z)"
   ]
  },
  {
   "cell_type": "code",
   "execution_count": 30,
   "id": "19d33079",
   "metadata": {},
   "outputs": [
    {
     "name": "stdout",
     "output_type": "stream",
     "text": [
      "[[10 11 12 13]\n",
      " [14 15 16 17]\n",
      " [18 19 20 21]]\n"
     ]
    }
   ],
   "source": [
    "#7\n",
    "x = np.arange(10,22).reshape(3,4)\n",
    "print(x)"
   ]
  },
  {
   "cell_type": "code",
   "execution_count": 102,
   "id": "6f6d5eb1",
   "metadata": {},
   "outputs": [
    {
     "name": "stdout",
     "output_type": "stream",
     "text": [
      "original array\n",
      "[ 0  1  2  3  4  5  6  7  8  9 10 11 12 13 14 15 16 17 18 19]\n",
      "count_r =:\n",
      "20\n",
      "count_c=:\n",
      "20\n"
     ]
    }
   ],
   "source": [
    "#8\n",
    "a=np.arange(20)\n",
    "print('original array')\n",
    "print(a)\n",
    "count_r = 0\n",
    "count_c = 0\n",
    "for i in range(len(a)):\n",
    "    count_r +=1\n",
    "    count_c +=1\n",
    "print('count_r =:')\n",
    "print(count_r)\n",
    "print('count_c=:')\n",
    "print(count_c)"
   ]
  },
  {
   "cell_type": "code",
   "execution_count": 32,
   "id": "6e7e0cee",
   "metadata": {},
   "outputs": [
    {
     "name": "stdout",
     "output_type": "stream",
     "text": [
      "[[1. 0. 0.]\n",
      " [0. 1. 0.]\n",
      " [0. 0. 1.]]\n"
     ]
    }
   ],
   "source": [
    "#9\n",
    "x = np.zeros((3,3))\n",
    "y = np.fill_diagonal(x,1)\n",
    "print(x)\n"
   ]
  },
  {
   "cell_type": "code",
   "execution_count": 33,
   "id": "b39b2bf6",
   "metadata": {},
   "outputs": [
    {
     "name": "stdout",
     "output_type": "stream",
     "text": [
      "[[1. 1. 1. 1. 1. 1. 1. 1. 1. 1.]\n",
      " [1. 0. 0. 0. 0. 0. 0. 0. 0. 1.]\n",
      " [1. 0. 0. 0. 0. 0. 0. 0. 0. 1.]\n",
      " [1. 0. 0. 0. 0. 0. 0. 0. 0. 1.]\n",
      " [1. 0. 0. 0. 0. 0. 0. 0. 0. 1.]\n",
      " [1. 0. 0. 0. 0. 0. 0. 0. 0. 1.]\n",
      " [1. 0. 0. 0. 0. 0. 0. 0. 0. 1.]\n",
      " [1. 0. 0. 0. 0. 0. 0. 0. 0. 1.]\n",
      " [1. 0. 0. 0. 0. 0. 0. 0. 0. 1.]\n",
      " [1. 1. 1. 1. 1. 1. 1. 1. 1. 1.]]\n"
     ]
    }
   ],
   "source": [
    "#10\n",
    "x = np.ones((10,10))\n",
    "y = x[1:-1,1:-1]=0\n",
    "print(x)"
   ]
  },
  {
   "cell_type": "code",
   "execution_count": 34,
   "id": "4a0fe6c1",
   "metadata": {},
   "outputs": [
    {
     "name": "stdout",
     "output_type": "stream",
     "text": [
      "[[1 0 0 0 0]\n",
      " [0 2 0 0 0]\n",
      " [0 0 3 0 0]\n",
      " [0 0 0 4 0]\n",
      " [0 0 0 0 5]]\n"
     ]
    }
   ],
   "source": [
    "#11\n",
    "x = np.zeros((5,5),int)\n",
    "np.fill_diagonal(x, [1,2,3,4,5])\n",
    "print(x)"
   ]
  },
  {
   "cell_type": "code",
   "execution_count": 35,
   "id": "7997679e",
   "metadata": {},
   "outputs": [
    {
     "name": "stdout",
     "output_type": "stream",
     "text": [
      "[[0 1 1 0]\n",
      " [1 0 0 1]\n",
      " [1 0 0 1]\n",
      " [0 1 1 0]]\n"
     ]
    }
   ],
   "source": [
    "#12\n",
    "x = np.ones((4,4),int)\n",
    "y = np.fill_diagonal(x, 0, wrap=True)\n",
    "np.fill_diagonal(np.fliplr(x), [0])\n",
    "print(x)"
   ]
  },
  {
   "cell_type": "code",
   "execution_count": 36,
   "id": "42140cc7",
   "metadata": {},
   "outputs": [
    {
     "name": "stdout",
     "output_type": "stream",
     "text": [
      "[[[91 91 83]\n",
      "  [53 78  0]\n",
      "  [13 57 76]]\n",
      "\n",
      " [[ 3 70  3]\n",
      "  [84 79 10]\n",
      "  [87 60  3]]\n",
      "\n",
      " [[48 52 43]\n",
      "  [36  5 71]\n",
      "  [38 86 94]]]\n"
     ]
    }
   ],
   "source": [
    "#13\n",
    "x = np.random.randint(100,size=(3,3,3))\n",
    "print(x)"
   ]
  },
  {
   "cell_type": "code",
   "execution_count": 37,
   "id": "4adc43d2",
   "metadata": {},
   "outputs": [
    {
     "name": "stdout",
     "output_type": "stream",
     "text": [
      "original array\n",
      "[[ 0  1  2  3  4]\n",
      " [ 5  6  7  8  9]\n",
      " [10 11 12 13 14]\n",
      " [15 16 17 18 19]]\n",
      "sum array\n",
      "190\n",
      "cumsum array\n",
      "[[ 0  1  3  6 10]\n",
      " [ 5 11 18 26 35]\n",
      " [10 21 33 46 60]\n",
      " [15 31 48 66 85]]\n",
      "cum array\n",
      "[[ 0  1  2  3  4]\n",
      " [ 5  7  9 11 13]\n",
      " [15 18 21 24 27]\n",
      " [30 34 38 42 46]]\n"
     ]
    }
   ],
   "source": [
    "#14\n",
    "x = np.arange(20).reshape(4,5)\n",
    "print('original array')\n",
    "print(x)\n",
    "y = np.sum(x)\n",
    "print('sum array')\n",
    "print(y)\n",
    "z = np.cumsum(x,axis=1)\n",
    "print('cumsum array')\n",
    "print(z)\n",
    "d = np.cumsum(x,axis=0)\n",
    "print('cum array')\n",
    "print(d)"
   ]
  },
  {
   "cell_type": "code",
   "execution_count": 38,
   "id": "0887d743",
   "metadata": {},
   "outputs": [
    {
     "name": "stdout",
     "output_type": "stream",
     "text": [
      "original array:\n",
      "[[ 1  2]\n",
      " [ 3  4]\n",
      " [ 5  6]\n",
      " [ 7  8]\n",
      " [ 9 10]]\n",
      "prod:\n",
      "3628800\n"
     ]
    }
   ],
   "source": [
    "#15\n",
    "x = np.arange(1,11).reshape(5,2)\n",
    "print('original array:')\n",
    "print(x)\n",
    "y = np.prod(x)\n",
    "print('prod:')\n",
    "print(y)"
   ]
  },
  {
   "cell_type": "code",
   "execution_count": 39,
   "id": "e001b11b",
   "metadata": {},
   "outputs": [
    {
     "name": "stdout",
     "output_type": "stream",
     "text": [
      "original array\n",
      "[[ 0  1  2  3  4]\n",
      " [ 5  6  7  8  9]\n",
      " [10 11 12 13 14]\n",
      " [15 16 17 18 19]]\n"
     ]
    }
   ],
   "source": [
    "#16\n",
    "arr = np.arange(20).reshape(4,5)\n",
    "print('original array')\n",
    "print(arr)"
   ]
  },
  {
   "cell_type": "code",
   "execution_count": 40,
   "id": "11ea609a",
   "metadata": {},
   "outputs": [],
   "source": [
    "#17\n",
    "file = '1'\n",
    "file2 = '2'\n",
    "x = np.arange(20).reshape(2,10)\n",
    "y = np.save(file,x)\n",
    "z = np.save(file2,x)"
   ]
  },
  {
   "cell_type": "code",
   "execution_count": 41,
   "id": "a63679fa",
   "metadata": {},
   "outputs": [],
   "source": [
    "#18\n",
    "file3 = '3'\n",
    "d = np.savez(file3,file,file2)"
   ]
  },
  {
   "cell_type": "code",
   "execution_count": 42,
   "id": "1ccbb77a",
   "metadata": {},
   "outputs": [
    {
     "name": "stdout",
     "output_type": "stream",
     "text": [
      "[5.89064448 3.50532447 4.82065832 8.60298519 1.04246971 2.09412209\n",
      " 7.03674176 8.4326748  2.23035931 6.17583996 9.02189759 2.8828191\n",
      " 2.66795398 1.97539201 2.97727743 9.80761406 8.30514834 2.54746911\n",
      " 8.34602274 3.46666372 4.88533765 9.46026838 8.35884441 4.02500755\n",
      " 2.57869408 4.35548842 1.05119657 3.27183718 8.16096258 1.13729474]\n"
     ]
    }
   ],
   "source": [
    "#19\n",
    "np.random.seed(100)\n",
    "arr = np.random.uniform(1,10,30) \n",
    "np.savetxt('1.txt',arr) \n",
    "arr1 = np.loadtxt('1.txt') \n",
    "print(arr1) "
   ]
  },
  {
   "cell_type": "code",
   "execution_count": 43,
   "id": "272e7f44",
   "metadata": {},
   "outputs": [
    {
     "name": "stdout",
     "output_type": "stream",
     "text": [
      "original\n",
      "[[12 13 17 12]\n",
      " [15 18 14 12]\n",
      " [ 2 17 10 15]\n",
      " [ 2 16 16 11]\n",
      " [ 7  1 15 13]]\n",
      "swaped array\n",
      "[['12' '13' '17' '12']\n",
      " ['15' '18' '14' '12']\n",
      " ['2' '17' '10' '15']\n",
      " ['2' '16' '16' '11']\n",
      " ['7' '1' '15' '13']]\n"
     ]
    }
   ],
   "source": [
    "#20\n",
    "x = np.random.randint(20,size=(5,4), dtype='b')\n",
    "print('original')\n",
    "print(x)\n",
    "y = x.astype('U')\n",
    "print('swaped array')\n",
    "print(y)"
   ]
  },
  {
   "cell_type": "code",
   "execution_count": 44,
   "id": "5a04ec08",
   "metadata": {},
   "outputs": [
    {
     "name": "stdout",
     "output_type": "stream",
     "text": [
      "oriiginal array\n",
      "[ 0  1  2  3  4  5  6  7  8  9 10 11 12 13 14 15 16 17 18 19 20 21 22 23\n",
      " 24 25 26 27 28 29 30 31 32 33 34 35 36 37 38 39 40 41 42 43 44 45 46 47\n",
      " 48 49]\n",
      "[[ 0  1  2  3  4]\n",
      " [ 5  6  7  8  9]\n",
      " [10 11 12 13 14]\n",
      " [15 16 17 18 19]\n",
      " [20 21 22 23 24]\n",
      " [25 26 27 28 29]\n",
      " [30 31 32 33 34]\n",
      " [35 36 37 38 39]\n",
      " [40 41 42 43 44]\n",
      " [45 46 47 48 49]]\n",
      "[array([[ 0,  1,  2,  3,  4],\n",
      "       [ 5,  6,  7,  8,  9],\n",
      "       [10, 11, 12, 13, 14],\n",
      "       [15, 16, 17, 18, 19],\n",
      "       [20, 21, 22, 23, 24],\n",
      "       [25, 26, 27, 28, 29],\n",
      "       [30, 31, 32, 33, 34],\n",
      "       [35, 36, 37, 38, 39],\n",
      "       [40, 41, 42, 43, 44],\n",
      "       [45, 46, 47, 48, 49]])]\n"
     ]
    }
   ],
   "source": [
    "#21\n",
    "a = np.arange(50)\n",
    "print('oriiginal array')\n",
    "print(a)\n",
    "b = a.reshape(10,5)\n",
    "print(b)\n",
    "print([b])"
   ]
  },
  {
   "cell_type": "code",
   "execution_count": 45,
   "id": "b106f0fe",
   "metadata": {},
   "outputs": [
    {
     "data": {
      "image/png": "[encoded data removed]",
      "text/plain": [
       "<Figure size 432x288 with 1 Axes>"
      ]
     },
     "metadata": {
      "needs_background": "light"
     },
     "output_type": "display_data"
    }
   ],
   "source": [
    "#22\n",
    "x = np.arange(0, 1.5 * np.pi, 0.1)\n",
    "y = np.sin(x)\n",
    "plt.plot(x, y)\n",
    "plt.show()"
   ]
  },
  {
   "cell_type": "code",
   "execution_count": 46,
   "id": "d0d02dac",
   "metadata": {},
   "outputs": [
    {
     "data": {
      "text/plain": [
       "'1.20.3'"
      ]
     },
     "execution_count": 46,
     "metadata": {},
     "output_type": "execute_result"
    }
   ],
   "source": [
    "#23\n",
    "np.version.version"
   ]
  },
  {
   "cell_type": "code",
   "execution_count": 47,
   "id": "4b992d05",
   "metadata": {},
   "outputs": [
    {
     "name": "stdout",
     "output_type": "stream",
     "text": [
      "[ 12  23  13  32 100  36  32]\n"
     ]
    }
   ],
   "source": [
    "#24\n",
    "x = np.array([12.23, 13.32, 100, 36.32])\n",
    "y = np.modf(x)\n",
    "z = np.array(y)[::5]\n",
    "k = np.array(y)[::-5]\n",
    "z1 = z * 100\n",
    "k1 = k.astype('i')\n",
    "z2 = z1.astype('i')\n",
    "d = np.concatenate((k1,z2),axis=0)\n",
    "n = np.ravel(d,order='F')\n",
    "m = np.delete(n,5)\n",
    "print(m)"
   ]
  },
  {
   "cell_type": "code",
   "execution_count": 48,
   "id": "4610d0d3",
   "metadata": {},
   "outputs": [
    {
     "name": "stdout",
     "output_type": "stream",
     "text": [
      "[[ 2  3  4]\n",
      " [ 5  6  7]\n",
      " [ 8  9 10]]\n"
     ]
    }
   ],
   "source": [
    "#25\n",
    "x = np.arange(2,11).reshape(3,3)\n",
    "print(x)"
   ]
  },
  {
   "cell_type": "code",
   "execution_count": 49,
   "id": "8055c316",
   "metadata": {},
   "outputs": [
    {
     "name": "stdout",
     "output_type": "stream",
     "text": [
      "[ 0.  0.  0.  0.  0.  0. 11.  0.  0.  0.]\n"
     ]
    }
   ],
   "source": [
    "#26\n",
    "x = np.zeros(10)\n",
    "new_x = np.put(x, [6], [11])\n",
    "print(x)"
   ]
  },
  {
   "cell_type": "code",
   "execution_count": 50,
   "id": "92b69ab8",
   "metadata": {},
   "outputs": [
    {
     "name": "stdout",
     "output_type": "stream",
     "text": [
      "[[12 13 14 15 16 17 18 19 20 21 22 23 24 25 26 27 28 29 30 31 32 33 34 35\n",
      "  36 37 38]]\n"
     ]
    }
   ],
   "source": [
    "#27\n",
    "x = np.arange(12,39)\n",
    "y = np.asmatrix(x)\n",
    "print(y)"
   ]
  },
  {
   "cell_type": "code",
   "execution_count": 51,
   "id": "c1feb2b7",
   "metadata": {},
   "outputs": [
    {
     "name": "stdout",
     "output_type": "stream",
     "text": [
      "[199 198 197 196 195 194 193 192 191 190 189 188 187 186 185 184 183 182\n",
      " 181 180 179 178 177 176 175 174 173 172 171 170 169 168 167 166 165 164\n",
      " 163 162 161 160 159 158 157 156 155 154 153 152 151 150 149 148 147 146\n",
      " 145 144 143 142 141 140 139 138 137 136 135 134 133 132 131 130 129 128\n",
      " 127 126 125 124 123 122 121 120 119 118 117 116 115 114 113 112 111 110\n",
      " 109 108 107 106 105 104 103 102 101 100  99  98  97  96  95  94  93  92\n",
      "  91  90  89  88  87  86  85  84  83  82  81  80  79  78  77  76  75  74\n",
      "  73  72  71  70  69  68  67  66  65  64  63  62  61  60  59  58  57  56\n",
      "  55  54  53  52  51  50  49  48  47  46  45  44  43  42  41  40  39  38\n",
      "  37  36  35  34  33  32  31  30  29  28  27  26  25  24  23  22  21  20\n",
      "  19  18  17  16  15  14  13  12  11  10   9   8   7   6   5   4   3   2\n",
      "   1   0]\n"
     ]
    }
   ],
   "source": [
    "#28\n",
    "x = np.arange(200)\n",
    "print(x[::-1])"
   ]
  },
  {
   "cell_type": "code",
   "execution_count": 52,
   "id": "7a100c23",
   "metadata": {},
   "outputs": [
    {
     "name": "stdout",
     "output_type": "stream",
     "text": [
      "[ 0.  1.  2.  3.  4.  5.  6.  7.  8.  9. 10. 11. 12. 13. 14. 15. 16. 17.\n",
      " 18. 19. 20. 21. 22. 23. 24. 25. 26. 27. 28. 29. 30. 31. 32. 33. 34. 35.\n",
      " 36. 37. 38. 39. 40. 41. 42. 43. 44. 45. 46. 47. 48. 49.]\n"
     ]
    }
   ],
   "source": [
    "#29\n",
    "x = np.arange(50)\n",
    "y = x.astype('f')\n",
    "print(y)"
   ]
  },
  {
   "cell_type": "code",
   "execution_count": 53,
   "id": "1a6d3de6",
   "metadata": {},
   "outputs": [
    {
     "name": "stdout",
     "output_type": "stream",
     "text": [
      "[[1. 1. 1. 1. 1.]\n",
      " [1. 0. 0. 0. 1.]\n",
      " [1. 0. 0. 0. 1.]\n",
      " [1. 0. 0. 0. 1.]\n",
      " [1. 1. 1. 1. 1.]]\n"
     ]
    }
   ],
   "source": [
    "#30\n",
    "x = np.ones((5,5))\n",
    "y = x[1:-1,1:-1]=0\n",
    "print(x)"
   ]
  },
  {
   "cell_type": "code",
   "execution_count": 117,
   "id": "66528c19",
   "metadata": {},
   "outputs": [
    {
     "name": "stdout",
     "output_type": "stream",
     "text": [
      "[[1 0 1 0 1 0 1 0]\n",
      " [0 1 0 1 0 1 0 1]\n",
      " [1 0 1 0 1 0 1 0]\n",
      " [0 1 0 1 0 1 0 1]\n",
      " [1 0 1 0 1 0 1 0]\n",
      " [0 1 0 1 0 1 0 1]\n",
      " [1 0 1 0 1 0 1 0]\n",
      " [0 1 0 1 0 1 0 1]]\n"
     ]
    },
    {
     "data": {
      "image/png": "[encoded data removed]",
      "text/plain": [
       "<Figure size 432x288 with 1 Axes>"
      ]
     },
     "metadata": {
      "needs_background": "light"
     },
     "output_type": "display_data"
    }
   ],
   "source": [
    "#31\n",
    "x = np.zeros((8,8),int)\n",
    "y = x[0::2, 0::2]=1\n",
    "z = x[1::2,1::2] =1\n",
    "print(x)\n",
    "plt.plot(x)\n",
    "plt.show()"
   ]
  },
  {
   "cell_type": "code",
   "execution_count": 55,
   "id": "bc5a80fe",
   "metadata": {},
   "outputs": [
    {
     "name": "stdout",
     "output_type": "stream",
     "text": [
      "[1 2 3 4 5 6 7 8]\n",
      "[[ 1  3  6 10]\n",
      " [15 21 28 36]]\n"
     ]
    }
   ],
   "source": [
    "#32\n",
    "x = np.arange(1,9)\n",
    "print(x)\n",
    "y = np.cumsum(x).reshape(2,4)\n",
    "print(y)"
   ]
  },
  {
   "cell_type": "code",
   "execution_count": 56,
   "id": "af4d2e1e",
   "metadata": {},
   "outputs": [
    {
     "name": "stdout",
     "output_type": "stream",
     "text": [
      "[10 20 30 40 50 60 70 80 90]\n"
     ]
    }
   ],
   "source": [
    "#33\n",
    "x=np.array([10,20,30])\n",
    "y=np.array([40,50,60,70,80,90])\n",
    "z = np.append(x,y)\n",
    "print(z)"
   ]
  },
  {
   "cell_type": "code",
   "execution_count": 57,
   "id": "2b06ce90",
   "metadata": {},
   "outputs": [
    {
     "name": "stdout",
     "output_type": "stream",
     "text": [
      "[ 0 40]\n",
      "[ True False False  True False]\n"
     ]
    }
   ],
   "source": [
    "#34\n",
    "Array1 =np.array([0,10,20,40,60])\n",
    "Array2 = np.array([0,40])\n",
    "new_arr = np.intersect1d(Array1,Array2)\n",
    "new_arr1 = np.isin(Array1,Array2)\n",
    "print(new_arr)\n",
    "print(new_arr1)"
   ]
  },
  {
   "cell_type": "code",
   "execution_count": 106,
   "id": "c0435c81",
   "metadata": {},
   "outputs": [
    {
     "name": "stdout",
     "output_type": "stream",
     "text": [
      "[10 20 20 10 10 10]\n",
      "[ 0 20 60 80]\n"
     ]
    }
   ],
   "source": [
    "#35\n",
    "Array1 =np.array([0, 10, 20, 40, 60, 80])\n",
    "Array2=np.array([10, 30, 40, 50, 70, 90])\n",
    "Array3 = np.subtract(Array2,Array1)\n",
    "print(Array3)\n",
    "Array4 = np.setdiff1d(Array1,Array2)\n",
    "print(Array4)"
   ]
  },
  {
   "cell_type": "code",
   "execution_count": 140,
   "id": "d9fbbcb3",
   "metadata": {},
   "outputs": [
    {
     "name": "stdout",
     "output_type": "stream",
     "text": [
      "original array 1:\n",
      "[[ 0  1  2  3]\n",
      " [ 4  5  6  7]\n",
      " [ 8  9 10 11]\n",
      " [12 13 14 15]]\n",
      "original array 2:\n",
      "[[ 2  3  4  5]\n",
      " [ 6  7  8  9]\n",
      " [10 11 12 13]\n",
      " [14 15 16 17]]\n",
      "the changed array:\n",
      "[[False False  True  True]\n",
      " [ True  True  True  True]\n",
      " [ True  True  True  True]\n",
      " [ True  True  True  True]]\n"
     ]
    }
   ],
   "source": [
    "#36\n",
    "x = np.arange(16).reshape(4,4)\n",
    "print('original array 1:')\n",
    "print(x)\n",
    "y = np.arange(2,18).reshape(4,4)\n",
    "print('original array 2:')\n",
    "print(y)\n",
    "print('the changed array:')\n",
    "new_arr = np.isin(x,y)\n",
    "print(new_arr)"
   ]
  },
  {
   "cell_type": "code",
   "execution_count": 151,
   "id": "af27bc9c",
   "metadata": {
    "scrolled": true
   },
   "outputs": [
    {
     "name": "stdout",
     "output_type": "stream",
     "text": [
      "[False False False False False False False False False False]\n"
     ]
    }
   ],
   "source": [
    "#37\n",
    "x = np.random.randint(100,size=[10,10])\n",
    "y = np.random.randint(100,size=(20,5))\n",
    "x1 = np.diagonal(x)\n",
    "y1 =np.diagonal(y)\n",
    "z = np.isin(x1,y1)\n",
    "print(z)"
   ]
  },
  {
   "cell_type": "code",
   "execution_count": 169,
   "id": "ee64eb36",
   "metadata": {},
   "outputs": [
    {
     "name": "stdout",
     "output_type": "stream",
     "text": [
      "[3 3 3 3]\n",
      "[1 1 2 2 3 3 4 4]\n"
     ]
    }
   ],
   "source": [
    "#38\n",
    "x = np.array([3,3])\n",
    "y = np.repeat(x,2)\n",
    "print(y)\n",
    "z = np.array([[1,2],[3,4]])\n",
    "k = np.repeat(z,2)\n",
    "print(k)"
   ]
  },
  {
   "cell_type": "code",
   "execution_count": 164,
   "id": "6b033098",
   "metadata": {},
   "outputs": [
    {
     "name": "stdout",
     "output_type": "stream",
     "text": [
      "None\n"
     ]
    }
   ],
   "source": [
    "#39\n",
    "file ='34.txt'\n",
    "a = np.arange(20).reshape(2,10)\n",
    "b =savetxt(file,a)"
   ]
  },
  {
   "cell_type": "code",
   "execution_count": 63,
   "id": "7a144110",
   "metadata": {},
   "outputs": [
    {
     "name": "stdout",
     "output_type": "stream",
     "text": [
      "[10 20 30 20 40 50]\n"
     ]
    }
   ],
   "source": [
    "#40\n",
    "x = np.array([[10,20,30],[20,40,50]])\n",
    "y = np.hstack(x)\n",
    "print(y)"
   ]
  },
  {
   "cell_type": "code",
   "execution_count": 64,
   "id": "41bdbe63",
   "metadata": {},
   "outputs": [
    {
     "name": "stdout",
     "output_type": "stream",
     "text": [
      "[[4 0 0 0]\n",
      " [0 5 0 0]\n",
      " [0 0 6 0]\n",
      " [0 0 0 8]]\n"
     ]
    }
   ],
   "source": [
    "#41\n",
    "x = np.zeros((4,4),int)\n",
    "np.fill_diagonal(x, [4,5,6,8])\n",
    "print(x)"
   ]
  },
  {
   "cell_type": "code",
   "execution_count": 84,
   "id": "92defb15",
   "metadata": {},
   "outputs": [
    {
     "name": "stdout",
     "output_type": "stream",
     "text": [
      "[['1' 'Կարմիր' '12.2']\n",
      " ['2' 'Կանաչ' '15']\n",
      " ['3' 'Սպիտակ' '20']\n",
      " ['4' 'Նարնջագույն' '40']]\n"
     ]
    }
   ],
   "source": [
    "#42\n",
    "x =np.array([[1,2,3,4],['Կարմիր', 'Կանաչ', 'Սպիտակ', 'Նարնջագույն'],[12.20,15,20,40]])\n",
    "y = np.stack((x),axis=1)\n",
    "print(y)"
   ]
  },
  {
   "cell_type": "code",
   "execution_count": 73,
   "id": "194e7cc2",
   "metadata": {},
   "outputs": [
    {
     "name": "stdout",
     "output_type": "stream",
     "text": [
      "[[ 0  1  2  3  4]\n",
      " [ 5  6  7  8  9]\n",
      " [10 11 12 13 14]\n",
      " [15 16 17 18 19]\n",
      " [20 21 22 23 24]\n",
      " [25 26 27 28 29]\n",
      " [30 31 32 33 34]\n",
      " [35 36 37 38 39]\n",
      " [40 41 42 43 44]\n",
      " [45 46 47 48 49]]\n"
     ]
    }
   ],
   "source": [
    "#43\n",
    "a = np.arange(200).reshape(10,20)\n",
    "np.savetxt('4.csv',a, delimiter=',')\n",
    "print(b)"
   ]
  },
  {
   "cell_type": "code",
   "execution_count": 3,
   "id": "3dacb23c",
   "metadata": {},
   "outputs": [
    {
     "ename": "NameError",
     "evalue": "name 'np' is not defined",
     "output_type": "error",
     "traceback": [
      "\u001b[0;31m---------------------------------------------------------------------------\u001b[0m",
      "\u001b[0;31mNameError\u001b[0m                                 Traceback (most recent call last)",
      "\u001b[0;32m/var/folders/xf/qvg6j60s7hddvx8mt5qky8gr0000gn/T/ipykernel_22816/1428679919.py\u001b[0m in \u001b[0;36m<module>\u001b[0;34m\u001b[0m\n\u001b[0;32m----> 1\u001b[0;31m \u001b[0ma\u001b[0m \u001b[0;34m=\u001b[0m \u001b[0mnp\u001b[0m\u001b[0;34m.\u001b[0m\u001b[0marray\u001b[0m\u001b[0;34m(\u001b[0m\u001b[0;34m[\u001b[0m\u001b[0;34m[\u001b[0m\u001b[0;36m0\u001b[0m\u001b[0;34m,\u001b[0m\u001b[0;36m1\u001b[0m\u001b[0;34m]\u001b[0m\u001b[0;34m,\u001b[0m \u001b[0;34m[\u001b[0m\u001b[0;36m1\u001b[0m\u001b[0;34m,\u001b[0m\u001b[0;36m0\u001b[0m\u001b[0;34m]\u001b[0m\u001b[0;34m]\u001b[0m\u001b[0;34m)\u001b[0m\u001b[0;34m\u001b[0m\u001b[0;34m\u001b[0m\u001b[0m\n\u001b[0m\u001b[1;32m      2\u001b[0m \u001b[0mb\u001b[0m \u001b[0;34m=\u001b[0m \u001b[0mnp\u001b[0m\u001b[0;34m.\u001b[0m\u001b[0mtile\u001b[0m\u001b[0;34m(\u001b[0m\u001b[0ma\u001b[0m\u001b[0;34m,\u001b[0m\u001b[0;34m(\u001b[0m\u001b[0;36m8\u001b[0m\u001b[0;34m,\u001b[0m\u001b[0;36m8\u001b[0m\u001b[0;34m)\u001b[0m\u001b[0;34m)\u001b[0m\u001b[0;34m\u001b[0m\u001b[0;34m\u001b[0m\u001b[0m\n\u001b[1;32m      3\u001b[0m \u001b[0mprint\u001b[0m\u001b[0;34m(\u001b[0m\u001b[0ma\u001b[0m\u001b[0;34m)\u001b[0m\u001b[0;34m\u001b[0m\u001b[0;34m\u001b[0m\u001b[0m\n\u001b[1;32m      4\u001b[0m \u001b[0mplt\u001b[0m\u001b[0;34m.\u001b[0m\u001b[0mplot\u001b[0m\u001b[0;34m(\u001b[0m\u001b[0ma\u001b[0m\u001b[0;34m)\u001b[0m\u001b[0;34m\u001b[0m\u001b[0;34m\u001b[0m\u001b[0m\n\u001b[1;32m      5\u001b[0m \u001b[0mplt\u001b[0m\u001b[0;34m.\u001b[0m\u001b[0mshow\u001b[0m\u001b[0;34m(\u001b[0m\u001b[0;34m)\u001b[0m\u001b[0;34m\u001b[0m\u001b[0;34m\u001b[0m\u001b[0m\n",
      "\u001b[0;31mNameError\u001b[0m: name 'np' is not defined"
     ]
    }
   ],
   "source": [
    "a = np.array([[0,1], [1,0]])\n",
    "b = np.tile(a,(8,8))\n",
    "print(a)\n",
    "plt.plot(a)\n",
    "plt.show()"
   ]
  },
  {
   "cell_type": "code",
   "execution_count": null,
   "id": "b1f260b3",
   "metadata": {},
   "outputs": [],
   "source": []
  }
 ],
 "metadata": {
  "kernelspec": {
   "display_name": "Python 3 (ipykernel)",
   "language": "python",
   "name": "python3"
  },
  "language_info": {
   "codemirror_mode": {
    "name": "ipython",
    "version": 3
   },
   "file_extension": ".py",
   "mimetype": "text/x-python",
   "name": "python",
   "nbconvert_exporter": "python",
   "pygments_lexer": "ipython3",
   "version": "3.9.7"
  }
 },
 "nbformat": 4,
 "nbformat_minor": 5
}
